{
  "nbformat": 4,
  "nbformat_minor": 0,
  "metadata": {
    "colab": {
      "provenance": [],
      "authorship_tag": "ABX9TyN6d2unLPmngRXRqNHx4eKb",
      "include_colab_link": true
    },
    "kernelspec": {
      "name": "python3",
      "display_name": "Python 3"
    },
    "language_info": {
      "name": "python"
    }
  },
  "cells": [
    {
      "cell_type": "markdown",
      "metadata": {
        "id": "view-in-github",
        "colab_type": "text"
      },
      "source": [
        "<a href=\"https://colab.research.google.com/github/yfpang7/dataScience_projects/blob/main/requests_xpaths_01.ipynb\" target=\"_parent\"><img src=\"https://colab.research.google.com/assets/colab-badge.svg\" alt=\"Open In Colab\"/></a>"
      ]
    },
    {
      "cell_type": "code",
      "execution_count": 1,
      "metadata": {
        "id": "Nw9erbIQxA0e"
      },
      "outputs": [],
      "source": [
        "import requests\n",
        "from lxml import html\n",
        "from bs4 import BeautifulSoup\n",
        "import polars as pl"
      ]
    },
    {
      "cell_type": "code",
      "source": [
        "# test url\n",
        "autotrade_url = 'https://www.autotrader.co.uk/car-search?advertising-location=at_cars&channel=cars&distance=&homeDeliveryAdverts=include&make=MINI&model=Hatch&postcode=CB1%203FL&price-to=7000&sort=relevance&year-from=2016'\n",
        "\n",
        "url = 'https://www.dtc-lease.nl/'\n",
        "\n",
        "right_move = 'https://www.rightmove.co.uk/property-for-sale/find.html?useLocationIdentifier=true&locationIdentifier=OUTCODE%5E409&radius=10.0&_includeSSTC=on&index=0&sortType=2&channel=BUY&transactionType=BUY&displayLocationIdentifier=CB1.html&maxPrice=700000'\n",
        "\n"
      ],
      "metadata": {
        "id": "0B1PVaQT5W7n"
      },
      "execution_count": 2,
      "outputs": []
    },
    {
      "cell_type": "code",
      "source": [
        "# get the rightmove url\n",
        "\n",
        "headers = {\n",
        "    \"User-Agent\": \"Mozilla/5.0 (Windows NT 10.0; Win64; x64) \"\n",
        "                  \"AppleWebKit/537.36 (KHTML, like Gecko) \"\n",
        "                  \"Chrome/127.0.0.0 Safari/537.36\"\n",
        "}\n",
        "\n",
        "response = requests.get(right_move, headers=headers)\n",
        "\n",
        "response.status_code"
      ],
      "metadata": {
        "colab": {
          "base_uri": "https://localhost:8080/"
        },
        "id": "Xxw1wttC5hl-",
        "outputId": "500b26e0-7b25-497d-cdeb-caa8955ff76b"
      },
      "execution_count": 3,
      "outputs": [
        {
          "output_type": "execute_result",
          "data": {
            "text/plain": [
              "200"
            ]
          },
          "metadata": {},
          "execution_count": 3
        }
      ]
    },
    {
      "cell_type": "code",
      "source": [
        "# parse the html\n",
        "tree = html.fromstring(response.text)\n",
        "\n",
        "# get the href of each property on the link\n",
        "links = tree.xpath('//a[contains(@data-testid , \"property-details-lozenge\")]/@href')\n",
        "\n",
        "links[:5]"
      ],
      "metadata": {
        "colab": {
          "base_uri": "https://localhost:8080/"
        },
        "id": "H0nbU-MJJfdw",
        "outputId": "767cef05-6b73-4a00-d15c-c3d4a69f7de7"
      },
      "execution_count": 4,
      "outputs": [
        {
          "output_type": "execute_result",
          "data": {
            "text/plain": [
              "['/properties/163672550#/?channel=RES_BUY',\n",
              " '/properties/166327667#/?channel=RES_BUY',\n",
              " '/properties/166046009#/?channel=RES_BUY',\n",
              " '/properties/163461650#/?channel=COM_BUY',\n",
              " '/properties/166587485#/?channel=RES_BUY']"
            ]
          },
          "metadata": {},
          "execution_count": 4
        }
      ]
    },
    {
      "cell_type": "code",
      "source": [
        "# get all the urls for all the available pages on rightmove\n",
        "urls =  [\n",
        "    f'https://www.rightmove.co.uk/property-for-sale/find.html?useLocationIdentifier=true&locationIdentifier=OUTCODE%5E409&radius=10.0&_includeSSTC=on&index={i}&sortType=2&channel=BUY&transactionType=BUY&displayLocationIdentifier=CB1.html&maxPrice=700000'\n",
        "    for i in range(0, 1500, 24)\n",
        "]"
      ],
      "metadata": {
        "id": "RP6FuHGJLkmJ"
      },
      "execution_count": 5,
      "outputs": []
    },
    {
      "cell_type": "code",
      "source": [
        "relative_urls = []\n",
        "# get the href in each of the links\n",
        "for url in urls:\n",
        "  r = requests.get(url, headers=headers)\n",
        "  tree = html.fromstring(r.text)\n",
        "  print(f'Successfully requests: {url}')\n",
        "\n",
        "  # get the the href from each property on each page\n",
        "  links = tree.xpath('//a[contains(@data-testid , \"property-details-lozenge\")]/@href')\n",
        "  # break if there is no more links\n",
        "  if not links:\n",
        "    break\n",
        "  # append the href or the relative urls into an array\n",
        "  relative_urls.extend(links)"
      ],
      "metadata": {
        "colab": {
          "base_uri": "https://localhost:8080/"
        },
        "id": "mjIgqoECM7Bw",
        "outputId": "75beb8b1-4555-4b32-bc67-871316a36ce4"
      },
      "execution_count": 6,
      "outputs": [
        {
          "output_type": "stream",
          "name": "stdout",
          "text": [
            "Successfully requests: https://www.rightmove.co.uk/property-for-sale/find.html?useLocationIdentifier=true&locationIdentifier=OUTCODE%5E409&radius=10.0&_includeSSTC=on&index=0&sortType=2&channel=BUY&transactionType=BUY&displayLocationIdentifier=CB1.html&maxPrice=700000\n",
            "Successfully requests: https://www.rightmove.co.uk/property-for-sale/find.html?useLocationIdentifier=true&locationIdentifier=OUTCODE%5E409&radius=10.0&_includeSSTC=on&index=24&sortType=2&channel=BUY&transactionType=BUY&displayLocationIdentifier=CB1.html&maxPrice=700000\n",
            "Successfully requests: https://www.rightmove.co.uk/property-for-sale/find.html?useLocationIdentifier=true&locationIdentifier=OUTCODE%5E409&radius=10.0&_includeSSTC=on&index=48&sortType=2&channel=BUY&transactionType=BUY&displayLocationIdentifier=CB1.html&maxPrice=700000\n",
            "Successfully requests: https://www.rightmove.co.uk/property-for-sale/find.html?useLocationIdentifier=true&locationIdentifier=OUTCODE%5E409&radius=10.0&_includeSSTC=on&index=72&sortType=2&channel=BUY&transactionType=BUY&displayLocationIdentifier=CB1.html&maxPrice=700000\n",
            "Successfully requests: https://www.rightmove.co.uk/property-for-sale/find.html?useLocationIdentifier=true&locationIdentifier=OUTCODE%5E409&radius=10.0&_includeSSTC=on&index=96&sortType=2&channel=BUY&transactionType=BUY&displayLocationIdentifier=CB1.html&maxPrice=700000\n",
            "Successfully requests: https://www.rightmove.co.uk/property-for-sale/find.html?useLocationIdentifier=true&locationIdentifier=OUTCODE%5E409&radius=10.0&_includeSSTC=on&index=120&sortType=2&channel=BUY&transactionType=BUY&displayLocationIdentifier=CB1.html&maxPrice=700000\n",
            "Successfully requests: https://www.rightmove.co.uk/property-for-sale/find.html?useLocationIdentifier=true&locationIdentifier=OUTCODE%5E409&radius=10.0&_includeSSTC=on&index=144&sortType=2&channel=BUY&transactionType=BUY&displayLocationIdentifier=CB1.html&maxPrice=700000\n",
            "Successfully requests: https://www.rightmove.co.uk/property-for-sale/find.html?useLocationIdentifier=true&locationIdentifier=OUTCODE%5E409&radius=10.0&_includeSSTC=on&index=168&sortType=2&channel=BUY&transactionType=BUY&displayLocationIdentifier=CB1.html&maxPrice=700000\n",
            "Successfully requests: https://www.rightmove.co.uk/property-for-sale/find.html?useLocationIdentifier=true&locationIdentifier=OUTCODE%5E409&radius=10.0&_includeSSTC=on&index=192&sortType=2&channel=BUY&transactionType=BUY&displayLocationIdentifier=CB1.html&maxPrice=700000\n",
            "Successfully requests: https://www.rightmove.co.uk/property-for-sale/find.html?useLocationIdentifier=true&locationIdentifier=OUTCODE%5E409&radius=10.0&_includeSSTC=on&index=216&sortType=2&channel=BUY&transactionType=BUY&displayLocationIdentifier=CB1.html&maxPrice=700000\n",
            "Successfully requests: https://www.rightmove.co.uk/property-for-sale/find.html?useLocationIdentifier=true&locationIdentifier=OUTCODE%5E409&radius=10.0&_includeSSTC=on&index=240&sortType=2&channel=BUY&transactionType=BUY&displayLocationIdentifier=CB1.html&maxPrice=700000\n",
            "Successfully requests: https://www.rightmove.co.uk/property-for-sale/find.html?useLocationIdentifier=true&locationIdentifier=OUTCODE%5E409&radius=10.0&_includeSSTC=on&index=264&sortType=2&channel=BUY&transactionType=BUY&displayLocationIdentifier=CB1.html&maxPrice=700000\n",
            "Successfully requests: https://www.rightmove.co.uk/property-for-sale/find.html?useLocationIdentifier=true&locationIdentifier=OUTCODE%5E409&radius=10.0&_includeSSTC=on&index=288&sortType=2&channel=BUY&transactionType=BUY&displayLocationIdentifier=CB1.html&maxPrice=700000\n",
            "Successfully requests: https://www.rightmove.co.uk/property-for-sale/find.html?useLocationIdentifier=true&locationIdentifier=OUTCODE%5E409&radius=10.0&_includeSSTC=on&index=312&sortType=2&channel=BUY&transactionType=BUY&displayLocationIdentifier=CB1.html&maxPrice=700000\n",
            "Successfully requests: https://www.rightmove.co.uk/property-for-sale/find.html?useLocationIdentifier=true&locationIdentifier=OUTCODE%5E409&radius=10.0&_includeSSTC=on&index=336&sortType=2&channel=BUY&transactionType=BUY&displayLocationIdentifier=CB1.html&maxPrice=700000\n",
            "Successfully requests: https://www.rightmove.co.uk/property-for-sale/find.html?useLocationIdentifier=true&locationIdentifier=OUTCODE%5E409&radius=10.0&_includeSSTC=on&index=360&sortType=2&channel=BUY&transactionType=BUY&displayLocationIdentifier=CB1.html&maxPrice=700000\n",
            "Successfully requests: https://www.rightmove.co.uk/property-for-sale/find.html?useLocationIdentifier=true&locationIdentifier=OUTCODE%5E409&radius=10.0&_includeSSTC=on&index=384&sortType=2&channel=BUY&transactionType=BUY&displayLocationIdentifier=CB1.html&maxPrice=700000\n",
            "Successfully requests: https://www.rightmove.co.uk/property-for-sale/find.html?useLocationIdentifier=true&locationIdentifier=OUTCODE%5E409&radius=10.0&_includeSSTC=on&index=408&sortType=2&channel=BUY&transactionType=BUY&displayLocationIdentifier=CB1.html&maxPrice=700000\n",
            "Successfully requests: https://www.rightmove.co.uk/property-for-sale/find.html?useLocationIdentifier=true&locationIdentifier=OUTCODE%5E409&radius=10.0&_includeSSTC=on&index=432&sortType=2&channel=BUY&transactionType=BUY&displayLocationIdentifier=CB1.html&maxPrice=700000\n",
            "Successfully requests: https://www.rightmove.co.uk/property-for-sale/find.html?useLocationIdentifier=true&locationIdentifier=OUTCODE%5E409&radius=10.0&_includeSSTC=on&index=456&sortType=2&channel=BUY&transactionType=BUY&displayLocationIdentifier=CB1.html&maxPrice=700000\n",
            "Successfully requests: https://www.rightmove.co.uk/property-for-sale/find.html?useLocationIdentifier=true&locationIdentifier=OUTCODE%5E409&radius=10.0&_includeSSTC=on&index=480&sortType=2&channel=BUY&transactionType=BUY&displayLocationIdentifier=CB1.html&maxPrice=700000\n",
            "Successfully requests: https://www.rightmove.co.uk/property-for-sale/find.html?useLocationIdentifier=true&locationIdentifier=OUTCODE%5E409&radius=10.0&_includeSSTC=on&index=504&sortType=2&channel=BUY&transactionType=BUY&displayLocationIdentifier=CB1.html&maxPrice=700000\n",
            "Successfully requests: https://www.rightmove.co.uk/property-for-sale/find.html?useLocationIdentifier=true&locationIdentifier=OUTCODE%5E409&radius=10.0&_includeSSTC=on&index=528&sortType=2&channel=BUY&transactionType=BUY&displayLocationIdentifier=CB1.html&maxPrice=700000\n",
            "Successfully requests: https://www.rightmove.co.uk/property-for-sale/find.html?useLocationIdentifier=true&locationIdentifier=OUTCODE%5E409&radius=10.0&_includeSSTC=on&index=552&sortType=2&channel=BUY&transactionType=BUY&displayLocationIdentifier=CB1.html&maxPrice=700000\n",
            "Successfully requests: https://www.rightmove.co.uk/property-for-sale/find.html?useLocationIdentifier=true&locationIdentifier=OUTCODE%5E409&radius=10.0&_includeSSTC=on&index=576&sortType=2&channel=BUY&transactionType=BUY&displayLocationIdentifier=CB1.html&maxPrice=700000\n",
            "Successfully requests: https://www.rightmove.co.uk/property-for-sale/find.html?useLocationIdentifier=true&locationIdentifier=OUTCODE%5E409&radius=10.0&_includeSSTC=on&index=600&sortType=2&channel=BUY&transactionType=BUY&displayLocationIdentifier=CB1.html&maxPrice=700000\n",
            "Successfully requests: https://www.rightmove.co.uk/property-for-sale/find.html?useLocationIdentifier=true&locationIdentifier=OUTCODE%5E409&radius=10.0&_includeSSTC=on&index=624&sortType=2&channel=BUY&transactionType=BUY&displayLocationIdentifier=CB1.html&maxPrice=700000\n",
            "Successfully requests: https://www.rightmove.co.uk/property-for-sale/find.html?useLocationIdentifier=true&locationIdentifier=OUTCODE%5E409&radius=10.0&_includeSSTC=on&index=648&sortType=2&channel=BUY&transactionType=BUY&displayLocationIdentifier=CB1.html&maxPrice=700000\n",
            "Successfully requests: https://www.rightmove.co.uk/property-for-sale/find.html?useLocationIdentifier=true&locationIdentifier=OUTCODE%5E409&radius=10.0&_includeSSTC=on&index=672&sortType=2&channel=BUY&transactionType=BUY&displayLocationIdentifier=CB1.html&maxPrice=700000\n",
            "Successfully requests: https://www.rightmove.co.uk/property-for-sale/find.html?useLocationIdentifier=true&locationIdentifier=OUTCODE%5E409&radius=10.0&_includeSSTC=on&index=696&sortType=2&channel=BUY&transactionType=BUY&displayLocationIdentifier=CB1.html&maxPrice=700000\n",
            "Successfully requests: https://www.rightmove.co.uk/property-for-sale/find.html?useLocationIdentifier=true&locationIdentifier=OUTCODE%5E409&radius=10.0&_includeSSTC=on&index=720&sortType=2&channel=BUY&transactionType=BUY&displayLocationIdentifier=CB1.html&maxPrice=700000\n",
            "Successfully requests: https://www.rightmove.co.uk/property-for-sale/find.html?useLocationIdentifier=true&locationIdentifier=OUTCODE%5E409&radius=10.0&_includeSSTC=on&index=744&sortType=2&channel=BUY&transactionType=BUY&displayLocationIdentifier=CB1.html&maxPrice=700000\n",
            "Successfully requests: https://www.rightmove.co.uk/property-for-sale/find.html?useLocationIdentifier=true&locationIdentifier=OUTCODE%5E409&radius=10.0&_includeSSTC=on&index=768&sortType=2&channel=BUY&transactionType=BUY&displayLocationIdentifier=CB1.html&maxPrice=700000\n",
            "Successfully requests: https://www.rightmove.co.uk/property-for-sale/find.html?useLocationIdentifier=true&locationIdentifier=OUTCODE%5E409&radius=10.0&_includeSSTC=on&index=792&sortType=2&channel=BUY&transactionType=BUY&displayLocationIdentifier=CB1.html&maxPrice=700000\n",
            "Successfully requests: https://www.rightmove.co.uk/property-for-sale/find.html?useLocationIdentifier=true&locationIdentifier=OUTCODE%5E409&radius=10.0&_includeSSTC=on&index=816&sortType=2&channel=BUY&transactionType=BUY&displayLocationIdentifier=CB1.html&maxPrice=700000\n",
            "Successfully requests: https://www.rightmove.co.uk/property-for-sale/find.html?useLocationIdentifier=true&locationIdentifier=OUTCODE%5E409&radius=10.0&_includeSSTC=on&index=840&sortType=2&channel=BUY&transactionType=BUY&displayLocationIdentifier=CB1.html&maxPrice=700000\n",
            "Successfully requests: https://www.rightmove.co.uk/property-for-sale/find.html?useLocationIdentifier=true&locationIdentifier=OUTCODE%5E409&radius=10.0&_includeSSTC=on&index=864&sortType=2&channel=BUY&transactionType=BUY&displayLocationIdentifier=CB1.html&maxPrice=700000\n",
            "Successfully requests: https://www.rightmove.co.uk/property-for-sale/find.html?useLocationIdentifier=true&locationIdentifier=OUTCODE%5E409&radius=10.0&_includeSSTC=on&index=888&sortType=2&channel=BUY&transactionType=BUY&displayLocationIdentifier=CB1.html&maxPrice=700000\n",
            "Successfully requests: https://www.rightmove.co.uk/property-for-sale/find.html?useLocationIdentifier=true&locationIdentifier=OUTCODE%5E409&radius=10.0&_includeSSTC=on&index=912&sortType=2&channel=BUY&transactionType=BUY&displayLocationIdentifier=CB1.html&maxPrice=700000\n",
            "Successfully requests: https://www.rightmove.co.uk/property-for-sale/find.html?useLocationIdentifier=true&locationIdentifier=OUTCODE%5E409&radius=10.0&_includeSSTC=on&index=936&sortType=2&channel=BUY&transactionType=BUY&displayLocationIdentifier=CB1.html&maxPrice=700000\n",
            "Successfully requests: https://www.rightmove.co.uk/property-for-sale/find.html?useLocationIdentifier=true&locationIdentifier=OUTCODE%5E409&radius=10.0&_includeSSTC=on&index=960&sortType=2&channel=BUY&transactionType=BUY&displayLocationIdentifier=CB1.html&maxPrice=700000\n",
            "Successfully requests: https://www.rightmove.co.uk/property-for-sale/find.html?useLocationIdentifier=true&locationIdentifier=OUTCODE%5E409&radius=10.0&_includeSSTC=on&index=984&sortType=2&channel=BUY&transactionType=BUY&displayLocationIdentifier=CB1.html&maxPrice=700000\n",
            "Successfully requests: https://www.rightmove.co.uk/property-for-sale/find.html?useLocationIdentifier=true&locationIdentifier=OUTCODE%5E409&radius=10.0&_includeSSTC=on&index=1008&sortType=2&channel=BUY&transactionType=BUY&displayLocationIdentifier=CB1.html&maxPrice=700000\n"
          ]
        }
      ]
    },
    {
      "cell_type": "code",
      "source": [
        "# check the first 5 relative urls\n",
        "relative_urls[:5]"
      ],
      "metadata": {
        "colab": {
          "base_uri": "https://localhost:8080/"
        },
        "id": "Mlf84t_qPmD_",
        "outputId": "900e9ab3-594f-4928-bc9e-677ba8f4d444"
      },
      "execution_count": 7,
      "outputs": [
        {
          "output_type": "execute_result",
          "data": {
            "text/plain": [
              "['/properties/166046180#/?channel=RES_BUY',\n",
              " '/properties/166327667#/?channel=RES_BUY',\n",
              " '/properties/166046009#/?channel=RES_BUY',\n",
              " '/properties/163461650#/?channel=COM_BUY',\n",
              " '/properties/166587485#/?channel=RES_BUY']"
            ]
          },
          "metadata": {},
          "execution_count": 7
        }
      ]
    },
    {
      "cell_type": "code",
      "source": [
        "# combine the base url with the relative urls\n",
        "# create the full list\n",
        "full_urls = [f\"{'https://www.rightmove.co.uk'}{relative}\" for relative in relative_urls]"
      ],
      "metadata": {
        "id": "skwdvB9gQVvW"
      },
      "execution_count": 8,
      "outputs": []
    },
    {
      "cell_type": "code",
      "source": [
        "# check the full links if they work\n",
        "full_urls[:5]"
      ],
      "metadata": {
        "colab": {
          "base_uri": "https://localhost:8080/"
        },
        "id": "PkyEC5E4QjJU",
        "outputId": "cda94387-16c6-4ea7-ef4d-08b87966b653"
      },
      "execution_count": 9,
      "outputs": [
        {
          "output_type": "execute_result",
          "data": {
            "text/plain": [
              "['https://www.rightmove.co.uk/properties/166046180#/?channel=RES_BUY',\n",
              " 'https://www.rightmove.co.uk/properties/166327667#/?channel=RES_BUY',\n",
              " 'https://www.rightmove.co.uk/properties/166046009#/?channel=RES_BUY',\n",
              " 'https://www.rightmove.co.uk/properties/163461650#/?channel=COM_BUY',\n",
              " 'https://www.rightmove.co.uk/properties/166587485#/?channel=RES_BUY']"
            ]
          },
          "metadata": {},
          "execution_count": 9
        }
      ]
    },
    {
      "cell_type": "code",
      "source": [
        "# defining the xpaths to extract each data\n",
        "xpaths = {\n",
        "    'address' : '//div[contains(@class, \"h3U6cGyEUf76tvCpYisik\")]/h1/text()',\n",
        "    'price' : '//div[contains(@class, \"_1gfnqJ3Vtd1z40MlC0MzXu\")]/span/text()',\n",
        "    'property_type' : '(//div[contains(@class, \"_3gIoc-NFXILAOZEaEjJi1n\")]/dd/span)[1]/p/text()',\n",
        "    'bedrooms' : '(//div[contains(@class, \"_3gIoc-NFXILAOZEaEjJi1n\")]/dd/span)[2]/p/text()',\n",
        "    'bathrooms' : '(//div[contains(@class, \"_3gIoc-NFXILAOZEaEjJi1n\")]/dd/span)[3]/p/text()',\n",
        "    'size' : '(//div[contains(@class, \"_3gIoc-NFXILAOZEaEjJi1n\")]/dd/span)[4]/p/text()',\n",
        "    'tenure' : '(//div[contains(@class, \"_3gIoc-NFXILAOZEaEjJi1n\")]/dd/span)[5]/p/text()',\n",
        "    'council_tax' : '(//dd[contains(@class, \"_2zXKe70Gdypr_v9MUDoVCm\")])[1]/text()',\n",
        "    'parking' : '(//div[contains(@class, \"_9u6R9n55iQlZi-JF6H59W\")])[2]/dd/span/text()',\n",
        "    'garden' : '(//div[contains(@class, \"_9u6R9n55iQlZi-JF6H59W\")])[3]/dd/span/text()',\n",
        "    'accessibility' : '(//div[contains(@class, \"_9u6R9n55iQlZi-JF6H59W\")])[4]/dd/span/text()',\n",
        "\n",
        "}"
      ],
      "metadata": {
        "id": "OOwGeQP7Qz70"
      },
      "execution_count": 10,
      "outputs": []
    },
    {
      "cell_type": "code",
      "source": [
        "[f\"{key} : {value}\" for key, value in xpaths.items()]"
      ],
      "metadata": {
        "colab": {
          "base_uri": "https://localhost:8080/"
        },
        "id": "rmw5iLlfY3Kp",
        "outputId": "00011aef-6eb7-40f9-b830-de961af9e638"
      },
      "execution_count": 11,
      "outputs": [
        {
          "output_type": "execute_result",
          "data": {
            "text/plain": [
              "['address : //div[contains(@class, \"h3U6cGyEUf76tvCpYisik\")]/h1/text()',\n",
              " 'price : //div[contains(@class, \"_1gfnqJ3Vtd1z40MlC0MzXu\")]/span/text()',\n",
              " 'property_type : (//div[contains(@class, \"_3gIoc-NFXILAOZEaEjJi1n\")]/dd/span)[1]/p/text()',\n",
              " 'bedrooms : (//div[contains(@class, \"_3gIoc-NFXILAOZEaEjJi1n\")]/dd/span)[2]/p/text()',\n",
              " 'bathrooms : (//div[contains(@class, \"_3gIoc-NFXILAOZEaEjJi1n\")]/dd/span)[3]/p/text()',\n",
              " 'size : (//div[contains(@class, \"_3gIoc-NFXILAOZEaEjJi1n\")]/dd/span)[4]/p/text()',\n",
              " 'tenure : (//div[contains(@class, \"_3gIoc-NFXILAOZEaEjJi1n\")]/dd/span)[5]/p/text()',\n",
              " 'council_tax : (//dd[contains(@class, \"_2zXKe70Gdypr_v9MUDoVCm\")])[1]/text()',\n",
              " 'parking : (//div[contains(@class, \"_9u6R9n55iQlZi-JF6H59W\")])[2]/dd/span/text()',\n",
              " 'garden : (//div[contains(@class, \"_9u6R9n55iQlZi-JF6H59W\")])[3]/dd/span/text()',\n",
              " 'accessibility : (//div[contains(@class, \"_9u6R9n55iQlZi-JF6H59W\")])[4]/dd/span/text()']"
            ]
          },
          "metadata": {},
          "execution_count": 11
        }
      ]
    },
    {
      "cell_type": "code",
      "source": [
        "# create a list to store all scraped data\n",
        "all_data = []\n",
        "\n",
        "for url in full_urls:\n",
        "  detail_response = requests.get(url, headers=headers)\n",
        "  detail_tree = html.fromstring(detail_response.text)\n",
        "  # print(f'Successfully requested: {url}')\n",
        "\n",
        "  # create a dictionary to store the scrapped data\n",
        "  # for one property\n",
        "  row= {'url' : url}\n",
        "\n",
        "  # go through each of the field and its corresponding XPath\n",
        "  for field in xpaths:\n",
        "    # print(field)\n",
        "    # field = the key ('address', 'etc)\n",
        "    # xpath = is the value from the key\n",
        "    xpath = xpaths[field]\n",
        "    # print(xpath)\n",
        "    result = detail_tree.xpath(xpath)\n",
        "\n",
        "    # if we get any results, use the first one\n",
        "    if result:\n",
        "      row[field] = result[0].strip()\n",
        "    else:\n",
        "      row[field] = None\n",
        "\n",
        "  # add this row to our data list\n",
        "  all_data.append(row)\n",
        "\n",
        "data = pl.DataFrame(all_data)\n",
        "\n",
        "# show the data\n",
        "data.head()\n"
      ],
      "metadata": {
        "colab": {
          "base_uri": "https://localhost:8080/",
          "height": 448
        },
        "id": "RTr8jar4Sqec",
        "outputId": "1c6f188d-c950-4fa0-f068-c7a6302d4dc1"
      },
      "execution_count": 12,
      "outputs": [
        {
          "output_type": "execute_result",
          "data": {
            "text/plain": [
              "shape: (5, 12)\n",
              "┌────────────┬────────────┬──────────┬────────────┬───┬───────────┬───────────┬────────┬───────────┐\n",
              "│ url        ┆ address    ┆ price    ┆ property_t ┆ … ┆ council_t ┆ parking   ┆ garden ┆ accessibi │\n",
              "│ ---        ┆ ---        ┆ ---      ┆ ype        ┆   ┆ ax        ┆ ---       ┆ ---    ┆ lity      │\n",
              "│ str        ┆ str        ┆ str      ┆ ---        ┆   ┆ ---       ┆ str       ┆ str    ┆ ---       │\n",
              "│            ┆            ┆          ┆ str        ┆   ┆ str       ┆           ┆        ┆ str       │\n",
              "╞════════════╪════════════╪══════════╪════════════╪═══╪═══════════╪═══════════╪════════╪═══════════╡\n",
              "│ https://ww ┆ Stirling   ┆ £469,995 ┆ Semi-Detac ┆ … ┆ Ask       ┆ Ask       ┆ Yes    ┆ Ask       │\n",
              "│ w.rightmov ┆ Road,\n",
              "     ┆          ┆ hed        ┆   ┆ developer ┆ developer ┆        ┆ developer │\n",
              "│ e.co.uk/pr ┆ Northstowe ┆          ┆            ┆   ┆           ┆           ┆        ┆           │\n",
              "│ …          ┆ ,\n",
              "         ┆          ┆            ┆   ┆           ┆           ┆        ┆           │\n",
              "│            ┆ C…         ┆          ┆            ┆   ┆           ┆           ┆        ┆           │\n",
              "│ https://ww ┆ Highfield  ┆ £700,000 ┆ Detached   ┆ … ┆ Band: E   ┆ Yes       ┆ Yes    ┆ Ask agent │\n",
              "│ w.rightmov ┆ Road,      ┆          ┆            ┆   ┆           ┆           ┆        ┆           │\n",
              "│ e.co.uk/pr ┆ Impington  ┆          ┆            ┆   ┆           ┆           ┆        ┆           │\n",
              "│ …          ┆            ┆          ┆            ┆   ┆           ┆           ┆        ┆           │\n",
              "│ https://ww ┆ Auckland   ┆ £700,000 ┆ End of     ┆ … ┆ Band: D   ┆ Permit    ┆ Yes    ┆ Ask agent │\n",
              "│ w.rightmov ┆ Road,      ┆          ┆ Terrace    ┆   ┆           ┆           ┆        ┆           │\n",
              "│ e.co.uk/pr ┆ Cambridge  ┆          ┆            ┆   ┆           ┆           ┆        ┆           │\n",
              "│ …          ┆            ┆          ┆            ┆   ┆           ┆           ┆        ┆           │\n",
              "│ https://ww ┆ London     ┆ £700,000 ┆ Land       ┆ … ┆ null      ┆ null      ┆ null   ┆ null      │\n",
              "│ w.rightmov ┆ Road,      ┆          ┆            ┆   ┆           ┆           ┆        ┆           │\n",
              "│ e.co.uk/pr ┆ Little Che ┆          ┆            ┆   ┆           ┆           ┆        ┆           │\n",
              "│ …          ┆ sterfor…   ┆          ┆            ┆   ┆           ┆           ┆        ┆           │\n",
              "│ https://ww ┆ High       ┆ £700,000 ┆ Detached   ┆ … ┆ Band: F   ┆ Yes       ┆ Yes    ┆ Ask agent │\n",
              "│ w.rightmov ┆ Street,    ┆          ┆            ┆   ┆           ┆           ┆        ┆           │\n",
              "│ e.co.uk/pr ┆ Teversham  ┆          ┆            ┆   ┆           ┆           ┆        ┆           │\n",
              "│ …          ┆            ┆          ┆            ┆   ┆           ┆           ┆        ┆           │\n",
              "└────────────┴────────────┴──────────┴────────────┴───┴───────────┴───────────┴────────┴───────────┘"
            ],
            "text/html": [
              "<div><style>\n",
              ".dataframe > thead > tr,\n",
              ".dataframe > tbody > tr {\n",
              "  text-align: right;\n",
              "  white-space: pre-wrap;\n",
              "}\n",
              "</style>\n",
              "<small>shape: (5, 12)</small><table border=\"1\" class=\"dataframe\"><thead><tr><th>url</th><th>address</th><th>price</th><th>property_type</th><th>bedrooms</th><th>bathrooms</th><th>size</th><th>tenure</th><th>council_tax</th><th>parking</th><th>garden</th><th>accessibility</th></tr><tr><td>str</td><td>str</td><td>str</td><td>str</td><td>str</td><td>str</td><td>str</td><td>str</td><td>str</td><td>str</td><td>str</td><td>str</td></tr></thead><tbody><tr><td>&quot;https://www.rightmove.co.uk/pr…</td><td>&quot;Stirling Road,\r\n",
              "Northstowe,\r\n",
              "C…</td><td>&quot;£469,995&quot;</td><td>&quot;Semi-Detached&quot;</td><td>&quot;4&quot;</td><td>&quot;Ask developer&quot;</td><td>&quot;Ask developer&quot;</td><td>null</td><td>&quot;Ask developer&quot;</td><td>&quot;Ask developer&quot;</td><td>&quot;Yes&quot;</td><td>&quot;Ask developer&quot;</td></tr><tr><td>&quot;https://www.rightmove.co.uk/pr…</td><td>&quot;Highfield Road, Impington&quot;</td><td>&quot;£700,000&quot;</td><td>&quot;Detached&quot;</td><td>&quot;3&quot;</td><td>&quot;1&quot;</td><td>&quot;Ask agent&quot;</td><td>&quot;Freehold&quot;</td><td>&quot;Band: E&quot;</td><td>&quot;Yes&quot;</td><td>&quot;Yes&quot;</td><td>&quot;Ask agent&quot;</td></tr><tr><td>&quot;https://www.rightmove.co.uk/pr…</td><td>&quot;Auckland Road, Cambridge&quot;</td><td>&quot;£700,000&quot;</td><td>&quot;End of Terrace&quot;</td><td>&quot;3&quot;</td><td>&quot;1&quot;</td><td>&quot;915 sq ft&quot;</td><td>&quot;Freehold&quot;</td><td>&quot;Band: D&quot;</td><td>&quot;Permit&quot;</td><td>&quot;Yes&quot;</td><td>&quot;Ask agent&quot;</td></tr><tr><td>&quot;https://www.rightmove.co.uk/pr…</td><td>&quot;London Road, Little Chesterfor…</td><td>&quot;£700,000&quot;</td><td>&quot;Land&quot;</td><td>&quot;4&quot;</td><td>&quot;3&quot;</td><td>&quot;30,492 sq ft&quot;</td><td>null</td><td>null</td><td>null</td><td>null</td><td>null</td></tr><tr><td>&quot;https://www.rightmove.co.uk/pr…</td><td>&quot;High Street, Teversham&quot;</td><td>&quot;£700,000&quot;</td><td>&quot;Detached&quot;</td><td>&quot;3&quot;</td><td>&quot;2&quot;</td><td>&quot;1,600 sq ft&quot;</td><td>&quot;Freehold&quot;</td><td>&quot;Band: F&quot;</td><td>&quot;Yes&quot;</td><td>&quot;Yes&quot;</td><td>&quot;Ask agent&quot;</td></tr></tbody></table></div>"
            ]
          },
          "metadata": {},
          "execution_count": 12
        }
      ]
    },
    {
      "cell_type": "code",
      "source": [
        "# write the data\n",
        "# !pip install xlsxwriter\n",
        "# data.write_excel('rightmove_CB1_within10miles.xlsx')"
      ],
      "metadata": {
        "id": "Yp8zUSDebDTg"
      },
      "execution_count": 13,
      "outputs": []
    },
    {
      "cell_type": "code",
      "source": [
        "# read from the last scrape\n",
        "# !pip install fastexcel\n",
        "# data = pl.read_excel('/content/rightmove_CB1_within10miles.xlsx')"
      ],
      "metadata": {
        "id": "4c0nfR48nLLK"
      },
      "execution_count": 14,
      "outputs": []
    },
    {
      "cell_type": "code",
      "source": [
        "data.head()"
      ],
      "metadata": {
        "id": "AxDooLwdngLS",
        "colab": {
          "base_uri": "https://localhost:8080/",
          "height": 448
        },
        "outputId": "4740353a-9e32-428b-f531-a1c445780b58"
      },
      "execution_count": 15,
      "outputs": [
        {
          "output_type": "execute_result",
          "data": {
            "text/plain": [
              "shape: (5, 12)\n",
              "┌────────────┬────────────┬──────────┬────────────┬───┬───────────┬───────────┬────────┬───────────┐\n",
              "│ url        ┆ address    ┆ price    ┆ property_t ┆ … ┆ council_t ┆ parking   ┆ garden ┆ accessibi │\n",
              "│ ---        ┆ ---        ┆ ---      ┆ ype        ┆   ┆ ax        ┆ ---       ┆ ---    ┆ lity      │\n",
              "│ str        ┆ str        ┆ str      ┆ ---        ┆   ┆ ---       ┆ str       ┆ str    ┆ ---       │\n",
              "│            ┆            ┆          ┆ str        ┆   ┆ str       ┆           ┆        ┆ str       │\n",
              "╞════════════╪════════════╪══════════╪════════════╪═══╪═══════════╪═══════════╪════════╪═══════════╡\n",
              "│ https://ww ┆ Stirling   ┆ £469,995 ┆ Semi-Detac ┆ … ┆ Ask       ┆ Ask       ┆ Yes    ┆ Ask       │\n",
              "│ w.rightmov ┆ Road,\n",
              "     ┆          ┆ hed        ┆   ┆ developer ┆ developer ┆        ┆ developer │\n",
              "│ e.co.uk/pr ┆ Northstowe ┆          ┆            ┆   ┆           ┆           ┆        ┆           │\n",
              "│ …          ┆ ,\n",
              "         ┆          ┆            ┆   ┆           ┆           ┆        ┆           │\n",
              "│            ┆ C…         ┆          ┆            ┆   ┆           ┆           ┆        ┆           │\n",
              "│ https://ww ┆ Highfield  ┆ £700,000 ┆ Detached   ┆ … ┆ Band: E   ┆ Yes       ┆ Yes    ┆ Ask agent │\n",
              "│ w.rightmov ┆ Road,      ┆          ┆            ┆   ┆           ┆           ┆        ┆           │\n",
              "│ e.co.uk/pr ┆ Impington  ┆          ┆            ┆   ┆           ┆           ┆        ┆           │\n",
              "│ …          ┆            ┆          ┆            ┆   ┆           ┆           ┆        ┆           │\n",
              "│ https://ww ┆ Auckland   ┆ £700,000 ┆ End of     ┆ … ┆ Band: D   ┆ Permit    ┆ Yes    ┆ Ask agent │\n",
              "│ w.rightmov ┆ Road,      ┆          ┆ Terrace    ┆   ┆           ┆           ┆        ┆           │\n",
              "│ e.co.uk/pr ┆ Cambridge  ┆          ┆            ┆   ┆           ┆           ┆        ┆           │\n",
              "│ …          ┆            ┆          ┆            ┆   ┆           ┆           ┆        ┆           │\n",
              "│ https://ww ┆ London     ┆ £700,000 ┆ Land       ┆ … ┆ null      ┆ null      ┆ null   ┆ null      │\n",
              "│ w.rightmov ┆ Road,      ┆          ┆            ┆   ┆           ┆           ┆        ┆           │\n",
              "│ e.co.uk/pr ┆ Little Che ┆          ┆            ┆   ┆           ┆           ┆        ┆           │\n",
              "│ …          ┆ sterfor…   ┆          ┆            ┆   ┆           ┆           ┆        ┆           │\n",
              "│ https://ww ┆ High       ┆ £700,000 ┆ Detached   ┆ … ┆ Band: F   ┆ Yes       ┆ Yes    ┆ Ask agent │\n",
              "│ w.rightmov ┆ Street,    ┆          ┆            ┆   ┆           ┆           ┆        ┆           │\n",
              "│ e.co.uk/pr ┆ Teversham  ┆          ┆            ┆   ┆           ┆           ┆        ┆           │\n",
              "│ …          ┆            ┆          ┆            ┆   ┆           ┆           ┆        ┆           │\n",
              "└────────────┴────────────┴──────────┴────────────┴───┴───────────┴───────────┴────────┴───────────┘"
            ],
            "text/html": [
              "<div><style>\n",
              ".dataframe > thead > tr,\n",
              ".dataframe > tbody > tr {\n",
              "  text-align: right;\n",
              "  white-space: pre-wrap;\n",
              "}\n",
              "</style>\n",
              "<small>shape: (5, 12)</small><table border=\"1\" class=\"dataframe\"><thead><tr><th>url</th><th>address</th><th>price</th><th>property_type</th><th>bedrooms</th><th>bathrooms</th><th>size</th><th>tenure</th><th>council_tax</th><th>parking</th><th>garden</th><th>accessibility</th></tr><tr><td>str</td><td>str</td><td>str</td><td>str</td><td>str</td><td>str</td><td>str</td><td>str</td><td>str</td><td>str</td><td>str</td><td>str</td></tr></thead><tbody><tr><td>&quot;https://www.rightmove.co.uk/pr…</td><td>&quot;Stirling Road,\r\n",
              "Northstowe,\r\n",
              "C…</td><td>&quot;£469,995&quot;</td><td>&quot;Semi-Detached&quot;</td><td>&quot;4&quot;</td><td>&quot;Ask developer&quot;</td><td>&quot;Ask developer&quot;</td><td>null</td><td>&quot;Ask developer&quot;</td><td>&quot;Ask developer&quot;</td><td>&quot;Yes&quot;</td><td>&quot;Ask developer&quot;</td></tr><tr><td>&quot;https://www.rightmove.co.uk/pr…</td><td>&quot;Highfield Road, Impington&quot;</td><td>&quot;£700,000&quot;</td><td>&quot;Detached&quot;</td><td>&quot;3&quot;</td><td>&quot;1&quot;</td><td>&quot;Ask agent&quot;</td><td>&quot;Freehold&quot;</td><td>&quot;Band: E&quot;</td><td>&quot;Yes&quot;</td><td>&quot;Yes&quot;</td><td>&quot;Ask agent&quot;</td></tr><tr><td>&quot;https://www.rightmove.co.uk/pr…</td><td>&quot;Auckland Road, Cambridge&quot;</td><td>&quot;£700,000&quot;</td><td>&quot;End of Terrace&quot;</td><td>&quot;3&quot;</td><td>&quot;1&quot;</td><td>&quot;915 sq ft&quot;</td><td>&quot;Freehold&quot;</td><td>&quot;Band: D&quot;</td><td>&quot;Permit&quot;</td><td>&quot;Yes&quot;</td><td>&quot;Ask agent&quot;</td></tr><tr><td>&quot;https://www.rightmove.co.uk/pr…</td><td>&quot;London Road, Little Chesterfor…</td><td>&quot;£700,000&quot;</td><td>&quot;Land&quot;</td><td>&quot;4&quot;</td><td>&quot;3&quot;</td><td>&quot;30,492 sq ft&quot;</td><td>null</td><td>null</td><td>null</td><td>null</td><td>null</td></tr><tr><td>&quot;https://www.rightmove.co.uk/pr…</td><td>&quot;High Street, Teversham&quot;</td><td>&quot;£700,000&quot;</td><td>&quot;Detached&quot;</td><td>&quot;3&quot;</td><td>&quot;2&quot;</td><td>&quot;1,600 sq ft&quot;</td><td>&quot;Freehold&quot;</td><td>&quot;Band: F&quot;</td><td>&quot;Yes&quot;</td><td>&quot;Yes&quot;</td><td>&quot;Ask agent&quot;</td></tr></tbody></table></div>"
            ]
          },
          "metadata": {},
          "execution_count": 15
        }
      ]
    },
    {
      "cell_type": "code",
      "source": [
        "# start cleaning the data\n",
        "clean_data = (\n",
        "    data\n",
        "    .with_columns(\n",
        "        pl.col('price').str.replace_all(r'£|,', '').cast(pl.Float64),\n",
        "        pl.col('bedrooms').cast(pl.Categorical,),\n",
        "        pl.col('bathrooms').cast(pl.Categorical),\n",
        "        # \\d* : one or more digits\n",
        "        # \\.?  = optinal decimals\n",
        "        # \\d* = zero or more digits after decimals\n",
        "        # () = capture the group for extract the match\n",
        "        pl.col('size').str.to_lowercase().str.replace_all(r'sq ft|,', '').str.replace_all(' ', '').str.extract(r'(\\d+\\.?\\d*)').cast(pl.Float64),\n",
        "        pl.col('council_tax').str.replace_all('Band: ', '').str.replace_all(r'Ask developer|Ask agent', '').replace('', None)\n",
        "    )\n",
        ")"
      ],
      "metadata": {
        "id": "qUge3MCjn4-D"
      },
      "execution_count": 16,
      "outputs": []
    },
    {
      "cell_type": "code",
      "source": [
        "clean_data.head()"
      ],
      "metadata": {
        "colab": {
          "base_uri": "https://localhost:8080/",
          "height": 448
        },
        "id": "RkUJcBJsbzVJ",
        "outputId": "90077241-6c31-4daa-ecbc-b497f7ca1478"
      },
      "execution_count": 17,
      "outputs": [
        {
          "output_type": "execute_result",
          "data": {
            "text/plain": [
              "shape: (5, 12)\n",
              "┌────────────┬────────────┬──────────┬────────────┬───┬───────────┬───────────┬────────┬───────────┐\n",
              "│ url        ┆ address    ┆ price    ┆ property_t ┆ … ┆ council_t ┆ parking   ┆ garden ┆ accessibi │\n",
              "│ ---        ┆ ---        ┆ ---      ┆ ype        ┆   ┆ ax        ┆ ---       ┆ ---    ┆ lity      │\n",
              "│ str        ┆ str        ┆ f64      ┆ ---        ┆   ┆ ---       ┆ str       ┆ str    ┆ ---       │\n",
              "│            ┆            ┆          ┆ str        ┆   ┆ str       ┆           ┆        ┆ str       │\n",
              "╞════════════╪════════════╪══════════╪════════════╪═══╪═══════════╪═══════════╪════════╪═══════════╡\n",
              "│ https://ww ┆ Stirling   ┆ 469995.0 ┆ Semi-Detac ┆ … ┆ null      ┆ Ask       ┆ Yes    ┆ Ask       │\n",
              "│ w.rightmov ┆ Road,\n",
              "     ┆          ┆ hed        ┆   ┆           ┆ developer ┆        ┆ developer │\n",
              "│ e.co.uk/pr ┆ Northstowe ┆          ┆            ┆   ┆           ┆           ┆        ┆           │\n",
              "│ …          ┆ ,\n",
              "         ┆          ┆            ┆   ┆           ┆           ┆        ┆           │\n",
              "│            ┆ C…         ┆          ┆            ┆   ┆           ┆           ┆        ┆           │\n",
              "│ https://ww ┆ Highfield  ┆ 700000.0 ┆ Detached   ┆ … ┆ E         ┆ Yes       ┆ Yes    ┆ Ask agent │\n",
              "│ w.rightmov ┆ Road,      ┆          ┆            ┆   ┆           ┆           ┆        ┆           │\n",
              "│ e.co.uk/pr ┆ Impington  ┆          ┆            ┆   ┆           ┆           ┆        ┆           │\n",
              "│ …          ┆            ┆          ┆            ┆   ┆           ┆           ┆        ┆           │\n",
              "│ https://ww ┆ Auckland   ┆ 700000.0 ┆ End of     ┆ … ┆ D         ┆ Permit    ┆ Yes    ┆ Ask agent │\n",
              "│ w.rightmov ┆ Road,      ┆          ┆ Terrace    ┆   ┆           ┆           ┆        ┆           │\n",
              "│ e.co.uk/pr ┆ Cambridge  ┆          ┆            ┆   ┆           ┆           ┆        ┆           │\n",
              "│ …          ┆            ┆          ┆            ┆   ┆           ┆           ┆        ┆           │\n",
              "│ https://ww ┆ London     ┆ 700000.0 ┆ Land       ┆ … ┆ null      ┆ null      ┆ null   ┆ null      │\n",
              "│ w.rightmov ┆ Road,      ┆          ┆            ┆   ┆           ┆           ┆        ┆           │\n",
              "│ e.co.uk/pr ┆ Little Che ┆          ┆            ┆   ┆           ┆           ┆        ┆           │\n",
              "│ …          ┆ sterfor…   ┆          ┆            ┆   ┆           ┆           ┆        ┆           │\n",
              "│ https://ww ┆ High       ┆ 700000.0 ┆ Detached   ┆ … ┆ F         ┆ Yes       ┆ Yes    ┆ Ask agent │\n",
              "│ w.rightmov ┆ Street,    ┆          ┆            ┆   ┆           ┆           ┆        ┆           │\n",
              "│ e.co.uk/pr ┆ Teversham  ┆          ┆            ┆   ┆           ┆           ┆        ┆           │\n",
              "│ …          ┆            ┆          ┆            ┆   ┆           ┆           ┆        ┆           │\n",
              "└────────────┴────────────┴──────────┴────────────┴───┴───────────┴───────────┴────────┴───────────┘"
            ],
            "text/html": [
              "<div><style>\n",
              ".dataframe > thead > tr,\n",
              ".dataframe > tbody > tr {\n",
              "  text-align: right;\n",
              "  white-space: pre-wrap;\n",
              "}\n",
              "</style>\n",
              "<small>shape: (5, 12)</small><table border=\"1\" class=\"dataframe\"><thead><tr><th>url</th><th>address</th><th>price</th><th>property_type</th><th>bedrooms</th><th>bathrooms</th><th>size</th><th>tenure</th><th>council_tax</th><th>parking</th><th>garden</th><th>accessibility</th></tr><tr><td>str</td><td>str</td><td>f64</td><td>str</td><td>cat</td><td>cat</td><td>f64</td><td>str</td><td>str</td><td>str</td><td>str</td><td>str</td></tr></thead><tbody><tr><td>&quot;https://www.rightmove.co.uk/pr…</td><td>&quot;Stirling Road,\r\n",
              "Northstowe,\r\n",
              "C…</td><td>469995.0</td><td>&quot;Semi-Detached&quot;</td><td>&quot;4&quot;</td><td>&quot;Ask developer&quot;</td><td>null</td><td>null</td><td>null</td><td>&quot;Ask developer&quot;</td><td>&quot;Yes&quot;</td><td>&quot;Ask developer&quot;</td></tr><tr><td>&quot;https://www.rightmove.co.uk/pr…</td><td>&quot;Highfield Road, Impington&quot;</td><td>700000.0</td><td>&quot;Detached&quot;</td><td>&quot;3&quot;</td><td>&quot;1&quot;</td><td>null</td><td>&quot;Freehold&quot;</td><td>&quot;E&quot;</td><td>&quot;Yes&quot;</td><td>&quot;Yes&quot;</td><td>&quot;Ask agent&quot;</td></tr><tr><td>&quot;https://www.rightmove.co.uk/pr…</td><td>&quot;Auckland Road, Cambridge&quot;</td><td>700000.0</td><td>&quot;End of Terrace&quot;</td><td>&quot;3&quot;</td><td>&quot;1&quot;</td><td>915.0</td><td>&quot;Freehold&quot;</td><td>&quot;D&quot;</td><td>&quot;Permit&quot;</td><td>&quot;Yes&quot;</td><td>&quot;Ask agent&quot;</td></tr><tr><td>&quot;https://www.rightmove.co.uk/pr…</td><td>&quot;London Road, Little Chesterfor…</td><td>700000.0</td><td>&quot;Land&quot;</td><td>&quot;4&quot;</td><td>&quot;3&quot;</td><td>30492.0</td><td>null</td><td>null</td><td>null</td><td>null</td><td>null</td></tr><tr><td>&quot;https://www.rightmove.co.uk/pr…</td><td>&quot;High Street, Teversham&quot;</td><td>700000.0</td><td>&quot;Detached&quot;</td><td>&quot;3&quot;</td><td>&quot;2&quot;</td><td>1600.0</td><td>&quot;Freehold&quot;</td><td>&quot;F&quot;</td><td>&quot;Yes&quot;</td><td>&quot;Yes&quot;</td><td>&quot;Ask agent&quot;</td></tr></tbody></table></div>"
            ]
          },
          "metadata": {},
          "execution_count": 17
        }
      ]
    }
  ]
}